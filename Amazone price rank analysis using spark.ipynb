{
 "cells": [
  {
   "cell_type": "code",
   "execution_count": 1,
   "metadata": {
    "collapsed": false,
    "deletable": true,
    "editable": true
   },
   "outputs": [
    {
     "name": "stderr",
     "output_type": "stream",
     "text": [
      "/usr/lib/spark/python/pyspark/sql/context.py:478: UserWarning: jsonFile is deprecated. Use read.json() instead.\n",
      "  warnings.warn(\"jsonFile is deprecated. Use read.json() instead.\")\n"
     ]
    }
   ],
   "source": [
    "#loading the data\n",
    "\n",
    "from pyspark.sql import SQLContext,Row\n",
    "sqlContext  =SQLContext(sc)\n",
    "aData = sqlContext.jsonFile(\"file:///home/cloudera/anurag/meta_Movies_and_TV.json\")"
   ]
  },
  {
   "cell_type": "code",
   "execution_count": 2,
   "metadata": {
    "collapsed": true,
    "deletable": true,
    "editable": true
   },
   "outputs": [],
   "source": [
    "#delete the unintended column which is creted with the name _corrupt_record and image URL as well, we won't be needing it\n",
    "aData = aData.drop(\"_corrupt_record\")\n",
    "aData = aData.drop(\"imUrl\")"
   ]
  },
  {
   "cell_type": "code",
   "execution_count": 3,
   "metadata": {
    "collapsed": false,
    "deletable": true,
    "editable": true
   },
   "outputs": [
    {
     "name": "stdout",
     "output_type": "stream",
     "text": [
      "+----------+-----+--------------------+--------------------+-----+--------------------+--------------------+--------------------+\n",
      "|      asin|brand|          categories|         description|price|             related|           salesRank|               title|\n",
      "+----------+-----+--------------------+--------------------+-----+--------------------+--------------------+--------------------+\n",
      "|0000143561| null|[WrappedArray(Mov...|3Pack DVD set - I...|12.99|[null,WrappedArra...|[null,null,null,n...|Everyday Italian ...|\n",
      "|0000589012| null|[WrappedArray(Mov...|                null|15.95|[WrappedArray(B00...|[null,null,null,n...|Why Don't They Ju...|\n",
      "|0000695009| null|[WrappedArray(Mov...|                null| null|                null|[null,null,null,n...|Understanding Sei...|\n",
      "|000107461X| null|[WrappedArray(Mov...|                null| null|                null|[null,null,null,n...|Live in Houston [...|\n",
      "|0000143529| null|[WrappedArray(Mov...|Disc 1: Flour Pow...|19.99|[WrappedArray(B00...|[null,null,null,n...|My Fair Pastry (G...|\n",
      "|0000143502| null|[WrappedArray(Mov...|Rise and Swine (G...|62.51|[WrappedArray(B00...|[null,null,null,n...|Rise and Swine (G...|\n",
      "|0000143588| null|[WrappedArray(Mov...|Barefoot Contessa...| 9.15|[null,WrappedArra...|[null,null,null,n...|Barefoot Contessa...|\n",
      "|0001517791| null|[WrappedArray(Mov...|Praise Aerobics -...| null|[null,WrappedArra...|[null,null,null,n...|Praise Aerobics [...|\n",
      "|0001527665| null|[WrappedArray(Mov...|                null| 9.98|                null|[null,null,null,n...|   Peace Child [VHS]|\n",
      "|0001516035| null|[WrappedArray(Mov...|Worship with Don ...|19.99|[WrappedArray(B00...|[null,null,null,n...|Worship with Don ...|\n",
      "|0000791156| null|[WrappedArray(Mov...|You can flow effo...|13.62|[WrappedArray(160...|[null,null,null,n...|Spirit Led-Moving...|\n",
      "|0001485423| null|[WrappedArray(Mov...|Award winning Bri...| null|[null,WrappedArra...|[null,null,null,n...|The Life of Siste...|\n",
      "|0001526863| null|[WrappedArray(Mov...|Songs:\n",
      "Let the Li...| null|[null,WrappedArra...|[null,null,null,n...|Steve Green: Hide...|\n",
      "|0005004101| null|[WrappedArray(Mov...|                null| null|                null|[null,null,null,n...|Witnesses of Jeho...|\n",
      "|0005019222| null|[WrappedArray(Mov...|                 NEW| null|                null|[null,null,null,n...|Waltons the Homec...|\n",
      "|0005097258| null|[WrappedArray(Mov...|Bill & Gloria Gai...| 9.95|[WrappedArray(630...|[null,null,null,n...|Holy Ground: Mome...|\n",
      "|000503860X| null|[WrappedArray(Mov...|                null| null|                null|[null,null,null,n...|Chapter X Live [VHS]|\n",
      "|0005048524|     |[WrappedArray(Mov...|            VHS TAPE|16.35|                null|[null,null,null,n...|Dinosaurs and the...|\n",
      "|0005114349|     |[WrappedArray(Mov...|Benji and Waldo d...| 4.49|                null|[null,null,null,n...|  Christmas is [VHS]|\n",
      "|0005055121| null|[WrappedArray(Mov...|Rare VHS tape min...| null|                null|[null,null,null,n...|50 Years of Thorn...|\n",
      "+----------+-----+--------------------+--------------------+-----+--------------------+--------------------+--------------------+\n",
      "only showing top 20 rows\n",
      "\n"
     ]
    }
   ],
   "source": [
    "aData.show()"
   ]
  },
  {
   "cell_type": "code",
   "execution_count": 4,
   "metadata": {
    "collapsed": false,
    "deletable": true,
    "editable": true
   },
   "outputs": [],
   "source": [
    "#first we are taking 100 rows to analyze the data( same can be applied to the whole set)\n",
    "\n",
    "aData = aData.limit(100)"
   ]
  },
  {
   "cell_type": "code",
   "execution_count": 5,
   "metadata": {
    "collapsed": true,
    "deletable": true,
    "editable": true
   },
   "outputs": [],
   "source": [
    "#removing sales rank as it is coming absurdly\n",
    "aData = aData.drop(\"salesRank\")"
   ]
  },
  {
   "cell_type": "code",
   "execution_count": 6,
   "metadata": {
    "collapsed": true,
    "deletable": true,
    "editable": true
   },
   "outputs": [],
   "source": [
    "#removing categories as it is coming absurdly\n",
    "aData = aData.drop(\"categories\")"
   ]
  },
  {
   "cell_type": "code",
   "execution_count": 7,
   "metadata": {
    "collapsed": true,
    "deletable": true,
    "editable": true
   },
   "outputs": [],
   "source": [
    "#removing brand as it is coming absurdly\n",
    "aData = aData.drop(\"brand\")"
   ]
  },
  {
   "cell_type": "code",
   "execution_count": 8,
   "metadata": {
    "collapsed": false,
    "deletable": true,
    "editable": true
   },
   "outputs": [
    {
     "name": "stdout",
     "output_type": "stream",
     "text": [
      "+----------+--------------------+-----+--------------------+--------------------+\n",
      "|      asin|         description|price|             related|               title|\n",
      "+----------+--------------------+-----+--------------------+--------------------+\n",
      "|0000143561|3Pack DVD set - I...|12.99|[null,WrappedArra...|Everyday Italian ...|\n",
      "|0000589012|                null|15.95|[WrappedArray(B00...|Why Don't They Ju...|\n",
      "|0000695009|                null| null|                null|Understanding Sei...|\n",
      "|000107461X|                null| null|                null|Live in Houston [...|\n",
      "|0000143529|Disc 1: Flour Pow...|19.99|[WrappedArray(B00...|My Fair Pastry (G...|\n",
      "|0000143502|Rise and Swine (G...|62.51|[WrappedArray(B00...|Rise and Swine (G...|\n",
      "|0000143588|Barefoot Contessa...| 9.15|[null,WrappedArra...|Barefoot Contessa...|\n",
      "|0001517791|Praise Aerobics -...| null|[null,WrappedArra...|Praise Aerobics [...|\n",
      "|0001527665|                null| 9.98|                null|   Peace Child [VHS]|\n",
      "|0001516035|Worship with Don ...|19.99|[WrappedArray(B00...|Worship with Don ...|\n",
      "|0000791156|You can flow effo...|13.62|[WrappedArray(160...|Spirit Led-Moving...|\n",
      "|0001485423|Award winning Bri...| null|[null,WrappedArra...|The Life of Siste...|\n",
      "|0001526863|Songs:\n",
      "Let the Li...| null|[null,WrappedArra...|Steve Green: Hide...|\n",
      "|0005004101|                null| null|                null|Witnesses of Jeho...|\n",
      "|0005019222|                 NEW| null|                null|Waltons the Homec...|\n",
      "|0005097258|Bill & Gloria Gai...| 9.95|[WrappedArray(630...|Holy Ground: Mome...|\n",
      "|000503860X|                null| null|                null|Chapter X Live [VHS]|\n",
      "|0005048524|            VHS TAPE|16.35|                null|Dinosaurs and the...|\n",
      "|0005114349|Benji and Waldo d...| 4.49|                null|  Christmas is [VHS]|\n",
      "|0005055121|Rare VHS tape min...| null|                null|50 Years of Thorn...|\n",
      "+----------+--------------------+-----+--------------------+--------------------+\n",
      "only showing top 20 rows\n",
      "\n"
     ]
    }
   ],
   "source": [
    "aData.show()"
   ]
  },
  {
   "cell_type": "code",
   "execution_count": 9,
   "metadata": {
    "collapsed": true,
    "deletable": true,
    "editable": true
   },
   "outputs": [],
   "source": [
    "#reading JSON file to create rdd to get salesrank and associated category\n",
    "\n",
    "aDataRdd = sc.textFile(\"file:///home/cloudera/anurag/meta_Movies_and_TV.json\")"
   ]
  },
  {
   "cell_type": "code",
   "execution_count": 11,
   "metadata": {
    "collapsed": false,
    "deletable": true,
    "editable": true
   },
   "outputs": [],
   "source": [
    "aDataRdd.collect()"
   ]
  },
  {
   "cell_type": "code",
   "execution_count": 15,
   "metadata": {
    "collapsed": false,
    "deletable": true,
    "editable": true
   },
   "outputs": [],
   "source": [
    "# Taking first 100 rows. like we took above.\n",
    "aDataRddnew = aDataRdd.take(100)"
   ]
  },
  {
   "cell_type": "code",
   "execution_count": 17,
   "metadata": {
    "collapsed": false,
    "deletable": true,
    "editable": true
   },
   "outputs": [],
   "source": [
    "aDataRddnew = sc.parallelize(aDataRddnew)\n",
    "aDataRddnew.collect()"
   ]
  },
  {
   "cell_type": "code",
   "execution_count": 18,
   "metadata": {
    "collapsed": true,
    "deletable": true,
    "editable": true
   },
   "outputs": [],
   "source": [
    "#Getting category \n",
    "\n",
    "amoviescat  =aDataRddnew.map(lambda rec:\" \" if \"salesRank\" not in rec else ((((rec.split(\"'salesRank\")[1]).split(\"}\")[0]).split(\":\")[1]).split(\"'\")[1]))"
   ]
  },
  {
   "cell_type": "code",
   "execution_count": 30,
   "metadata": {
    "collapsed": false,
    "deletable": true,
    "editable": true
   },
   "outputs": [],
   "source": [
    "amoviescat.collect()"
   ]
  },
  {
   "cell_type": "code",
   "execution_count": 21,
   "metadata": {
    "collapsed": true,
    "deletable": true,
    "editable": true
   },
   "outputs": [],
   "source": [
    "#Getting salesRank\n",
    "amoviessalesRank  =aDataRddnew.map(lambda rec:0 if \"salesRank\" not in rec else ((((rec.split(\"'salesRank\")[1]).split(\"}\")[0]).split(\":\")[2])))"
   ]
  },
  {
   "cell_type": "code",
   "execution_count": 32,
   "metadata": {
    "collapsed": false,
    "deletable": true,
    "editable": true
   },
   "outputs": [],
   "source": [
    "amoviessalesRank.collect()"
   ]
  },
  {
   "cell_type": "code",
   "execution_count": 26,
   "metadata": {
    "collapsed": true,
    "deletable": true,
    "editable": true
   },
   "outputs": [],
   "source": [
    "from pyspark.sql.functions import monotonically_increasing_id "
   ]
  },
  {
   "cell_type": "code",
   "execution_count": 28,
   "metadata": {
    "collapsed": false,
    "deletable": true,
    "editable": true
   },
   "outputs": [],
   "source": [
    "row = Row(\"category\")\n",
    "catDF = amoviescat.map(row).toDF()\n",
    "catDF.show()\n",
    "catDF = catDF.withColumn(\"id\", monotonically_increasing_id()) \n",
    "catDF.show()"
   ]
  },
  {
   "cell_type": "code",
   "execution_count": 34,
   "metadata": {
    "collapsed": false,
    "deletable": true,
    "editable": true
   },
   "outputs": [],
   "source": [
    "row = Row(\"salesRank\")\n",
    "salesRankDF = amoviessalesRank.map(row).toDF()\n",
    "salesRankDF = salesRankDF.withColumn(\"id\", monotonically_increasing_id()) \n",
    "salesRankDF.show()"
   ]
  },
  {
   "cell_type": "code",
   "execution_count": 35,
   "metadata": {
    "collapsed": false,
    "deletable": true,
    "editable": true
   },
   "outputs": [],
   "source": [
    "newdata = catDF.join(salesRankDF, \"id\", \"outer\")"
   ]
  },
  {
   "cell_type": "code",
   "execution_count": 37,
   "metadata": {
    "collapsed": false,
    "deletable": true,
    "editable": true
   },
   "outputs": [],
   "source": [
    "# newdata = newdata.withColumn(\"id\",monotonically_increasing_id())"
   ]
  },
  {
   "cell_type": "code",
   "execution_count": 39,
   "metadata": {
    "collapsed": false,
    "deletable": true,
    "editable": true
   },
   "outputs": [],
   "source": [
    "newdata.show()"
   ]
  },
  {
   "cell_type": "code",
   "execution_count": 40,
   "metadata": {
    "collapsed": false,
    "deletable": true,
    "editable": true
   },
   "outputs": [],
   "source": [
    "aData = aData.withColumn(\"id\", monotonically_increasing_id()) \n"
   ]
  },
  {
   "cell_type": "code",
   "execution_count": 41,
   "metadata": {
    "collapsed": false,
    "deletable": true,
    "editable": true
   },
   "outputs": [
    {
     "name": "stdout",
     "output_type": "stream",
     "text": [
      "+----------+--------------------+-----+--------------------+--------------------+---+\n",
      "|      asin|         description|price|             related|               title| id|\n",
      "+----------+--------------------+-----+--------------------+--------------------+---+\n",
      "|0000143561|3Pack DVD set - I...|12.99|[null,WrappedArra...|Everyday Italian ...|  0|\n",
      "|0000589012|                null|15.95|[WrappedArray(B00...|Why Don't They Ju...|  1|\n",
      "|0000695009|                null| null|                null|Understanding Sei...|  2|\n",
      "|000107461X|                null| null|                null|Live in Houston [...|  3|\n",
      "|0000143529|Disc 1: Flour Pow...|19.99|[WrappedArray(B00...|My Fair Pastry (G...|  4|\n",
      "|0000143502|Rise and Swine (G...|62.51|[WrappedArray(B00...|Rise and Swine (G...|  5|\n",
      "|0000143588|Barefoot Contessa...| 9.15|[null,WrappedArra...|Barefoot Contessa...|  6|\n",
      "|0001517791|Praise Aerobics -...| null|[null,WrappedArra...|Praise Aerobics [...|  7|\n",
      "|0001527665|                null| 9.98|                null|   Peace Child [VHS]|  8|\n",
      "|0001516035|Worship with Don ...|19.99|[WrappedArray(B00...|Worship with Don ...|  9|\n",
      "|0000791156|You can flow effo...|13.62|[WrappedArray(160...|Spirit Led-Moving...| 10|\n",
      "|0001485423|Award winning Bri...| null|[null,WrappedArra...|The Life of Siste...| 11|\n",
      "|0001526863|Songs:\n",
      "Let the Li...| null|[null,WrappedArra...|Steve Green: Hide...| 12|\n",
      "|0005004101|                null| null|                null|Witnesses of Jeho...| 13|\n",
      "|0005019222|                 NEW| null|                null|Waltons the Homec...| 14|\n",
      "|0005097258|Bill & Gloria Gai...| 9.95|[WrappedArray(630...|Holy Ground: Mome...| 15|\n",
      "|000503860X|                null| null|                null|Chapter X Live [VHS]| 16|\n",
      "|0005048524|            VHS TAPE|16.35|                null|Dinosaurs and the...| 17|\n",
      "|0005114349|Benji and Waldo d...| 4.49|                null|  Christmas is [VHS]| 18|\n",
      "|0005055121|Rare VHS tape min...| null|                null|50 Years of Thorn...| 19|\n",
      "+----------+--------------------+-----+--------------------+--------------------+---+\n",
      "only showing top 20 rows\n",
      "\n"
     ]
    }
   ],
   "source": [
    "aData.show()"
   ]
  },
  {
   "cell_type": "code",
   "execution_count": 42,
   "metadata": {
    "collapsed": false,
    "deletable": true,
    "editable": true
   },
   "outputs": [
    {
     "name": "stdout",
     "output_type": "stream",
     "text": [
      "+---+----------+--------------------+------+--------------------+--------------------+-----------+---------+\n",
      "| id|      asin|         description| price|             related|               title|   category|salesRank|\n",
      "+---+----------+--------------------+------+--------------------+--------------------+-----------+---------+\n",
      "| 31|0005165687|                null|  null|                null|Laugh Yo' Self 2 ...|Movies & TV|   936793|\n",
      "| 32|0005253446|                null| 33.97|                null|Steps to Freedom ...|Movies & TV|   673158|\n",
      "| 33|000510372X|                null|  null|                null|The Mastery of Mi...|Movies & TV|   701863|\n",
      "| 34|0005419263|Songs:\n",
      "1. Encoura...|   5.0|[WrappedArray(000...|Steve Green: Hide...|Movies & TV|   390213|\n",
      "| 35|0005200288|Overview\n",
      "\n",
      "Have yo...| 12.95|                null|Walk Where Jesus ...|Movies & TV|   183133|\n",
      "| 36|0005452287|           VHS, 1993|  25.0|                null|Rejoice Africa [VHS]|Movies & TV|   475950|\n",
      "| 37|0005041104|                null|  null|                null|Camp Harmony (Rob...|Movies & TV|   865267|\n",
      "| 38|0005257891|                book|  null|                null|Breaking Intimida...|Movies & TV|   738164|\n",
      "| 39|0005445825|\"Thank you again ...|  25.0|                null|UFOs : The Hidden...|Movies & TV|   544159|\n",
      "| 40|000547700X|                null|  null|                null|Come Fly with the...|Movies & TV|  1067044|\n",
      "| 41|0005059836|Featuring:Homecom...| 25.13|                null|Homecoming Kids C...|Movies & TV|   570349|\n",
      "| 42|0006588204|Step 3 of the 3-p...|  null|[null,WrappedArra...|Exercise for Life...|Movies & TV|   203203|\n",
      "| 43|0006886558|Stormie, along wi...|  null|[null,WrappedArra...|Stormie Omartian'...|Movies & TV|   227558|\n",
      "| 44|0011528230|An infallible sig...|  null|                null|Humor in Recovery...|Movies & TV|   813209|\n",
      "| 45|0012175447|DVD-Cedarmont Kid...|  10.0|[WrappedArray(B00...|DVD-Cedarmont Kid...|Movies & TV|   268611|\n",
      "| 46|007312155X|                null|  null|                null|Biology Digitized...|Movies & TV|   586188|\n",
      "| 47|0073213071|Hemispheres is a ...|  null|                null|   Hemispheres 3 DVD|Movies & TV|   938862|\n",
      "| 48|0073259152|Two DVDs  of Inte...|120.97|[WrappedArray(007...|Bien vu bien dit DVD|Movies & TV|   385340|\n",
      "| 49|0073291404|Over 250 minutes ...| 26.27|[WrappedArray(B00...|Paul Solman Video...|Movies & TV|   271462|\n",
      "| 50|0073325570|Puntos de partida...|  null|[WrappedArray(007...|DVD program to ac...|Movies & TV|   281540|\n",
      "+---+----------+--------------------+------+--------------------+--------------------+-----------+---------+\n",
      "only showing top 20 rows\n",
      "\n"
     ]
    }
   ],
   "source": [
    "finalDF = aData.join(newdata, \"id\", \"outer\")\n",
    "finalDF.show()"
   ]
  },
  {
   "cell_type": "code",
   "execution_count": 45,
   "metadata": {
    "collapsed": false,
    "deletable": true,
    "editable": true
   },
   "outputs": [],
   "source": [
    "#deleting related column as this is coming incorrectly\n",
    "finalDF = finalDF.drop(\"related\")"
   ]
  },
  {
   "cell_type": "code",
   "execution_count": 81,
   "metadata": {
    "collapsed": false,
    "deletable": true,
    "editable": true
   },
   "outputs": [
    {
     "name": "stdout",
     "output_type": "stream",
     "text": [
      "+---------+\n",
      "|salesRank|\n",
      "+---------+\n",
      "|  1022732|\n",
      "|  1067044|\n",
      "|  1084845|\n",
      "|  1098045|\n",
      "|    13809|\n",
      "|   173878|\n",
      "|   183133|\n",
      "|   203203|\n",
      "|   227558|\n",
      "|   251847|\n",
      "+---------+\n",
      "\n"
     ]
    }
   ],
   "source": [
    "\n",
    "finalDF.registerTempTable(\"AProduct\")\n",
    "sqlContext.sql(\"select salesRank from AProduct order by salesRank asc limit 10\").show()"
   ]
  },
  {
   "cell_type": "code",
   "execution_count": null,
   "metadata": {
    "collapsed": true,
    "deletable": true,
    "editable": true
   },
   "outputs": [],
   "source": [
    "#2-Co-purchasing"
   ]
  },
  {
   "cell_type": "code",
   "execution_count": null,
   "metadata": {
    "collapsed": true,
    "deletable": true,
    "editable": true
   },
   "outputs": [],
   "source": [
    "#For many top selling products we don't have bought together entries. we are providing dummy id for which entrie are their \n",
    "#in the database to check that our logic is working"
   ]
  },
  {
   "cell_type": "code",
   "execution_count": 53,
   "metadata": {
    "collapsed": true,
    "deletable": true,
    "editable": true
   },
   "outputs": [],
   "source": [
    "# Working on finding the related products\n",
    "\n",
    "aData.registerTempTable(\"related\")"
   ]
  },
  {
   "cell_type": "code",
   "execution_count": 74,
   "metadata": {
    "collapsed": true,
    "deletable": true,
    "editable": true
   },
   "outputs": [],
   "source": [
    "related = sqlContext.sql(\"select related from related where id =45\")"
   ]
  },
  {
   "cell_type": "code",
   "execution_count": 75,
   "metadata": {
    "collapsed": false,
    "deletable": true,
    "editable": true
   },
   "outputs": [],
   "source": [
    "df11 = related.select(\"related.also_bought\")"
   ]
  },
  {
   "cell_type": "code",
   "execution_count": 76,
   "metadata": {
    "collapsed": false,
    "deletable": true,
    "editable": true
   },
   "outputs": [
    {
     "name": "stdout",
     "output_type": "stream",
     "text": [
      "+--------------------+\n",
      "|         also_bought|\n",
      "+--------------------+\n",
      "|[B0010WAC50, B000...|\n",
      "+--------------------+\n",
      "\n"
     ]
    }
   ],
   "source": [
    "df11.show()"
   ]
  },
  {
   "cell_type": "code",
   "execution_count": 77,
   "metadata": {
    "collapsed": false,
    "deletable": true,
    "editable": true
   },
   "outputs": [],
   "source": [
    "b = df11.rdd"
   ]
  },
  {
   "cell_type": "code",
   "execution_count": 78,
   "metadata": {
    "collapsed": false,
    "deletable": true,
    "editable": true
   },
   "outputs": [],
   "source": [
    "def dualExplode(r):\n",
    "    rowDict = r.asDict()\n",
    "    bList = rowDict.pop('also_bought')\n",
    "   \n",
    "    for b in bList:\n",
    "        newDict = dict(rowDict)\n",
    "        newDict['also_bought'] = b\n",
    "       \n",
    "        yield Row(**newDict)\n",
    "\n",
    "df_split = sqlContext.createDataFrame(df11.rdd.flatMap(dualExplode))"
   ]
  },
  {
   "cell_type": "code",
   "execution_count": 79,
   "metadata": {
    "collapsed": false,
    "deletable": true,
    "editable": true
   },
   "outputs": [],
   "source": [
    "df_split.registerTempTable(\"Bought\")"
   ]
  },
  {
   "cell_type": "code",
   "execution_count": 80,
   "metadata": {
    "collapsed": false,
    "deletable": true,
    "editable": true
   },
   "outputs": [
    {
     "name": "stdout",
     "output_type": "stream",
     "text": [
      "+-----------+\n",
      "|also_bought|\n",
      "+-----------+\n",
      "| B0010WAC50|\n",
      "| B000069HXM|\n",
      "| B000BR8BJ4|\n",
      "| B000BR9LY8|\n",
      "| B00005CBYX|\n",
      "| B0010X5UGU|\n",
      "| B000F5EDVC|\n",
      "| B000C6NURM|\n",
      "| B000WDRF94|\n",
      "| B00006L93R|\n",
      "| B00006L93S|\n",
      "+-----------+\n",
      "\n"
     ]
    }
   ],
   "source": [
    "sqlContext.sql(\"select * from Bought \").show()"
   ]
  },
  {
   "cell_type": "code",
   "execution_count": null,
   "metadata": {
    "collapsed": true,
    "deletable": true,
    "editable": true
   },
   "outputs": [],
   "source": [
    "#we are taking sales rank as the metric of popularity"
   ]
  },
  {
   "cell_type": "code",
   "execution_count": 63,
   "metadata": {
    "collapsed": false,
    "deletable": true,
    "editable": true
   },
   "outputs": [
    {
     "name": "stdout",
     "output_type": "stream",
     "text": [
      "+-----+-----------+\n",
      "|price|also_bought|\n",
      "+-----+-----------+\n",
      "+-----+-----------+\n",
      "\n"
     ]
    }
   ],
   "source": [
    "sqlContext.sql(\"select A.salesRank,B.also_bought from AProduct A,Bought B where A.asin = B.also_bought \").show()\n",
    "# sqlContext.sql(\"select A.price,B.also_bought from AProduct A,Bought B where A.asin = '0000143561' \").show()"
   ]
  },
  {
   "cell_type": "code",
   "execution_count": 207,
   "metadata": {
    "collapsed": false,
    "deletable": true,
    "editable": true
   },
   "outputs": [],
   "source": [
    "#since we are not getting any matching results ,\n",
    "# Let's update a few entries and check\n"
   ]
  },
  {
   "cell_type": "code",
   "execution_count": 65,
   "metadata": {
    "collapsed": true,
    "deletable": true,
    "editable": true
   },
   "outputs": [],
   "source": [
    "from pyspark.sql.functions import col, expr, when"
   ]
  },
  {
   "cell_type": "code",
   "execution_count": 66,
   "metadata": {
    "collapsed": false,
    "deletable": true,
    "editable": true
   },
   "outputs": [],
   "source": [
    "new_column_2 = when(col(\"also_bought\") == 'B000NR4CRM', '0005253446').when(col(\"also_bought\") == 'B0019BK3KQ', '0005452287').when(col(\"also_bought\") == 'B000PNECNI', '0005059836').otherwise(col(\"also_bought\"))\n",
    "df_splitn=df_split.withColumn(\"new_also_bought\", new_column_2)"
   ]
  },
  {
   "cell_type": "code",
   "execution_count": 67,
   "metadata": {
    "collapsed": false,
    "deletable": true,
    "editable": true
   },
   "outputs": [
    {
     "name": "stdout",
     "output_type": "stream",
     "text": [
      "+-----------+---------------+\n",
      "|also_bought|new_also_bought|\n",
      "+-----------+---------------+\n",
      "| B000NR4CRM|     0005253446|\n",
      "| B0019BK3KQ|     0005452287|\n",
      "| B000PNECNI|     0005059836|\n",
      "| B000PNUILI|     B000PNUILI|\n",
      "| B0018Y5NVI|     B0018Y5NVI|\n",
      "| B000UMM9UC|     B000UMM9UC|\n",
      "| B000PMPV6G|     B000PMPV6G|\n",
      "| B001UFO924|     B001UFO924|\n",
      "| B0019BIB4Q|     B0019BIB4Q|\n",
      "| 0000143499|     0000143499|\n",
      "| B000P1CKES|     B000P1CKES|\n",
      "| B000UMMB5K|     B000UMMB5K|\n",
      "| B002VZUC32|     B002VZUC32|\n",
      "+-----------+---------------+\n",
      "\n"
     ]
    }
   ],
   "source": [
    "df_splitn.show()"
   ]
  },
  {
   "cell_type": "code",
   "execution_count": 70,
   "metadata": {
    "collapsed": false,
    "deletable": true,
    "editable": true
   },
   "outputs": [
    {
     "name": "stdout",
     "output_type": "stream",
     "text": [
      "+---------+---------------+\n",
      "|salesRank|new_also_bought|\n",
      "+---------+---------------+\n",
      "|   475950|     0005452287|\n",
      "|   570349|     0005059836|\n",
      "|   673158|     0005253446|\n",
      "+---------+---------------+\n",
      "\n"
     ]
    }
   ],
   "source": [
    "df_splitn.registerTempTable(\"Boughtn\")\n",
    "\n",
    "sqlContext.sql(\"select A.salesRank,B.new_also_bought from AProduct A,Boughtn B where A.asin = B.new_also_bought order by salesRank asc limit 3\").show()"
   ]
  },
  {
   "cell_type": "code",
   "execution_count": 222,
   "metadata": {
    "collapsed": false,
    "deletable": true,
    "editable": true
   },
   "outputs": [
    {
     "name": "stdout",
     "output_type": "stream",
     "text": [
      "+----------+------+\n",
      "| ProductID| Price|\n",
      "+----------+------+\n",
      "|0000695009|  null|\n",
      "|000547700X|  null|\n",
      "|0000589012| 15.95|\n",
      "|0130861383|  null|\n",
      "|0073378208| 41.94|\n",
      "|030714335X|  null|\n",
      "|0005200288| 12.95|\n",
      "|0006588204|  null|\n",
      "|0006886558|  null|\n",
      "|0001526863|  null|\n",
      "|0307142477|  8.95|\n",
      "|0012175447|  10.0|\n",
      "|0073291404| 26.27|\n",
      "|0307142469|  1.01|\n",
      "|0073325570|  null|\n",
      "|013115298X|252.46|\n",
      "|0135135044|  null|\n",
      "|0307141144|  3.72|\n",
      "|0000143588|  9.15|\n",
      "|0307141985|  null|\n",
      "+----------+------+\n",
      "only showing top 20 rows\n",
      "\n"
     ]
    }
   ],
   "source": [
    "# Price positioning: Explore price range of the best seller compared to the price range of category.\n",
    "\n",
    "sqlContext.sql(\"select asin as ProductID, price as Price from AProduct order by salesRank asc\").show()"
   ]
  },
  {
   "cell_type": "code",
   "execution_count": 244,
   "metadata": {
    "collapsed": false,
    "deletable": true,
    "editable": true
   },
   "outputs": [],
   "source": [
    "import matplotlib\n",
    "%matplotlib inline"
   ]
  },
  {
   "cell_type": "code",
   "execution_count": 226,
   "metadata": {
    "collapsed": false,
    "deletable": true,
    "editable": true
   },
   "outputs": [
    {
     "name": "stderr",
     "output_type": "stream",
     "text": [
      "/home/cloudera/anaconda2/lib/python2.7/site-packages/matplotlib/font_manager.py:273: UserWarning: Matplotlib is building the font cache using fc-list. This may take a moment.\n",
      "  warnings.warn('Matplotlib is building the font cache using fc-list. This may take a moment.')\n"
     ]
    }
   ],
   "source": [
    "import seaborn as sns"
   ]
  },
  {
   "cell_type": "code",
   "execution_count": 227,
   "metadata": {
    "collapsed": true,
    "deletable": true,
    "editable": true
   },
   "outputs": [],
   "source": [
    "priceDataPerSalesRank = sqlContext.sql(\"select asin as ProductID, price as Price from AProduct order by salesRank asc\")"
   ]
  },
  {
   "cell_type": "code",
   "execution_count": 228,
   "metadata": {
    "collapsed": false,
    "deletable": true,
    "editable": true
   },
   "outputs": [
    {
     "data": {
      "text/plain": [
       "DataFrame[ProductID: string, Price: double]"
      ]
     },
     "execution_count": 228,
     "metadata": {},
     "output_type": "execute_result"
    }
   ],
   "source": [
    "priceDataPerSalesRank"
   ]
  },
  {
   "cell_type": "code",
   "execution_count": 229,
   "metadata": {
    "collapsed": true,
    "deletable": true,
    "editable": true
   },
   "outputs": [],
   "source": [
    "import pandas as pds"
   ]
  },
  {
   "cell_type": "code",
   "execution_count": 237,
   "metadata": {
    "collapsed": true,
    "deletable": true,
    "editable": true
   },
   "outputs": [],
   "source": [
    "newdf = priceDataPerSalesRank.toPandas()"
   ]
  },
  {
   "cell_type": "code",
   "execution_count": 238,
   "metadata": {
    "collapsed": false,
    "deletable": true,
    "editable": true
   },
   "outputs": [
    {
     "data": {
      "text/plain": [
       "(100, 2)"
      ]
     },
     "execution_count": 238,
     "metadata": {},
     "output_type": "execute_result"
    }
   ],
   "source": [
    "newdf.shape"
   ]
  },
  {
   "cell_type": "code",
   "execution_count": 239,
   "metadata": {
    "collapsed": false,
    "deletable": true,
    "editable": true
   },
   "outputs": [
    {
     "data": {
      "text/html": [
       "<div>\n",
       "<table border=\"1\" class=\"dataframe\">\n",
       "  <thead>\n",
       "    <tr style=\"text-align: right;\">\n",
       "      <th></th>\n",
       "      <th>ProductID</th>\n",
       "      <th>Price</th>\n",
       "    </tr>\n",
       "  </thead>\n",
       "  <tbody>\n",
       "    <tr>\n",
       "      <th>0</th>\n",
       "      <td>0000695009</td>\n",
       "      <td>NaN</td>\n",
       "    </tr>\n",
       "    <tr>\n",
       "      <th>1</th>\n",
       "      <td>000547700X</td>\n",
       "      <td>NaN</td>\n",
       "    </tr>\n",
       "    <tr>\n",
       "      <th>2</th>\n",
       "      <td>0000589012</td>\n",
       "      <td>15.95</td>\n",
       "    </tr>\n",
       "    <tr>\n",
       "      <th>3</th>\n",
       "      <td>0130861383</td>\n",
       "      <td>NaN</td>\n",
       "    </tr>\n",
       "  </tbody>\n",
       "</table>\n",
       "</div>"
      ],
      "text/plain": [
       "    ProductID  Price\n",
       "0  0000695009    NaN\n",
       "1  000547700X    NaN\n",
       "2  0000589012  15.95\n",
       "3  0130861383    NaN"
      ]
     },
     "execution_count": 239,
     "metadata": {},
     "output_type": "execute_result"
    }
   ],
   "source": [
    "newdf.head(4)"
   ]
  },
  {
   "cell_type": "code",
   "execution_count": 240,
   "metadata": {
    "collapsed": true,
    "deletable": true,
    "editable": true
   },
   "outputs": [],
   "source": [
    "#replacing NAN with median of the column(data seems skewed)\n",
    "\n",
    "newdf['Price'].fillna((newdf['Price'].median()),inplace =True)"
   ]
  },
  {
   "cell_type": "code",
   "execution_count": 242,
   "metadata": {
    "collapsed": false,
    "deletable": true,
    "editable": true
   },
   "outputs": [
    {
     "data": {
      "text/html": [
       "<div>\n",
       "<table border=\"1\" class=\"dataframe\">\n",
       "  <thead>\n",
       "    <tr style=\"text-align: right;\">\n",
       "      <th></th>\n",
       "      <th>Price</th>\n",
       "    </tr>\n",
       "  </thead>\n",
       "  <tbody>\n",
       "    <tr>\n",
       "      <th>count</th>\n",
       "      <td>100.000000</td>\n",
       "    </tr>\n",
       "    <tr>\n",
       "      <th>mean</th>\n",
       "      <td>23.121600</td>\n",
       "    </tr>\n",
       "    <tr>\n",
       "      <th>std</th>\n",
       "      <td>32.955531</td>\n",
       "    </tr>\n",
       "    <tr>\n",
       "      <th>min</th>\n",
       "      <td>0.490000</td>\n",
       "    </tr>\n",
       "    <tr>\n",
       "      <th>25%</th>\n",
       "      <td>13.462500</td>\n",
       "    </tr>\n",
       "    <tr>\n",
       "      <th>50%</th>\n",
       "      <td>15.950000</td>\n",
       "    </tr>\n",
       "    <tr>\n",
       "      <th>75%</th>\n",
       "      <td>16.080000</td>\n",
       "    </tr>\n",
       "    <tr>\n",
       "      <th>max</th>\n",
       "      <td>252.460000</td>\n",
       "    </tr>\n",
       "  </tbody>\n",
       "</table>\n",
       "</div>"
      ],
      "text/plain": [
       "            Price\n",
       "count  100.000000\n",
       "mean    23.121600\n",
       "std     32.955531\n",
       "min      0.490000\n",
       "25%     13.462500\n",
       "50%     15.950000\n",
       "75%     16.080000\n",
       "max    252.460000"
      ]
     },
     "execution_count": 242,
     "metadata": {},
     "output_type": "execute_result"
    }
   ],
   "source": [
    "newdf.describe()"
   ]
  },
  {
   "cell_type": "code",
   "execution_count": 245,
   "metadata": {
    "collapsed": false,
    "deletable": true,
    "editable": true
   },
   "outputs": [
    {
     "data": {
      "text/plain": [
       "<matplotlib.axes._subplots.AxesSubplot at 0x7f4d39855050>"
      ]
     },
     "execution_count": 245,
     "metadata": {},
     "output_type": "execute_result"
    },
    {
     "data": {
      "image/png": "[encoded data removed]",
      "text/plain": [
       "<matplotlib.figure.Figure at 0x7f4d3985e850>"
      ]
     },
     "metadata": {},
     "output_type": "display_data"
    }
   ],
   "source": [
    "#let's plot it\n",
    "\n",
    "sns.distplot(newdf['Price'])"
   ]
  },
  {
   "cell_type": "code",
   "execution_count": null,
   "metadata": {
    "collapsed": true,
    "deletable": true,
    "editable": true
   },
   "outputs": [],
   "source": [
    "#the above graph shows a right skewed distribution , which suggests that low sales ranked(Frequently baught) items have low prices\n",
    "# having the 75% products below price 16.08 $.\n",
    "#total 50% products fall between 13.46 - 15.95 .\n",
    "#above infrences are based on the taken sample only.\n",
    "\n",
    "#may be for category Movies & TV people tend to buy less expansive options.(one time watch may be) :)\n",
    "\n",
    "\n",
    "\n",
    "\n",
    "\n",
    "\n",
    "\n"
   ]
  }
 ],
 "metadata": {
  "kernelspec": {
   "display_name": "Python 2",
   "language": "python",
   "name": "python2"
  },
  "language_info": {
   "codemirror_mode": {
    "name": "ipython",
    "version": 2
   },
   "file_extension": ".py",
   "mimetype": "text/x-python",
   "name": "python",
   "nbconvert_exporter": "python",
   "pygments_lexer": "ipython2",
   "version": "2.7.13"
  }
 },
 "nbformat": 4,
 "nbformat_minor": 0
}
